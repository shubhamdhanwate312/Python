{
 "cells": [
  {
   "cell_type": "markdown",
   "id": "0aebbc7d",
   "metadata": {},
   "source": [
    "# start with python basics uses print functionn\n"
   ]
  },
  {
   "cell_type": "markdown",
   "id": "4d611839",
   "metadata": {},
   "source": [
    "# what is version of python use  9.6.3    .....new version is 3.12.2"
   ]
  },
  {
   "cell_type": "code",
   "execution_count": 1,
   "id": "fcdc68d3",
   "metadata": {},
   "outputs": [
    {
     "name": "stdout",
     "output_type": "stream",
     "text": [
      "Hello\n"
     ]
    }
   ],
   "source": [
    "print(\"Hello\")"
   ]
  },
  {
   "cell_type": "code",
   "execution_count": 2,
   "id": "b525ff00",
   "metadata": {},
   "outputs": [
    {
     "name": "stdout",
     "output_type": "stream",
     "text": [
      "hiii\n"
     ]
    }
   ],
   "source": [
    "print(\"hiii\")"
   ]
  },
  {
   "cell_type": "code",
   "execution_count": 5,
   "id": "26954877",
   "metadata": {},
   "outputs": [
    {
     "name": "stdout",
     "output_type": "stream",
     "text": [
      "Hey Shubham\n",
      "How are you\n"
     ]
    }
   ],
   "source": [
    "print(\"Hey Shubham\\nHow are you\")#use \\n for new line "
   ]
  },
  {
   "cell_type": "code",
   "execution_count": 6,
   "id": "58efa205",
   "metadata": {},
   "outputs": [
    {
     "name": "stdout",
     "output_type": "stream",
     "text": [
      "Hey Shubham\tHow are you\n"
     ]
    }
   ],
   "source": [
    "print(\"Hey Shubham\\tHow are you\")#\\t use for to give some space "
   ]
  },
  {
   "cell_type": "code",
   "execution_count": 10,
   "id": "1534b0e2",
   "metadata": {},
   "outputs": [],
   "source": [
    "#There are Two types of comments\n",
    "#single line comments start with #\n"
   ]
  },
  {
   "cell_type": "code",
   "execution_count": 11,
   "id": "2e2b67ff",
   "metadata": {},
   "outputs": [],
   "source": [
    "#print(\"hello\")"
   ]
  },
  {
   "cell_type": "code",
   "execution_count": 12,
   "id": "f1b8161d",
   "metadata": {},
   "outputs": [
    {
     "data": {
      "text/plain": [
       "' hello friend\\n     how are you?'"
      ]
     },
     "execution_count": 12,
     "metadata": {},
     "output_type": "execute_result"
    }
   ],
   "source": [
    "#Start with line comments start with \"hello\", end with \"word\" And also multiple line comments for use \n",
    "''' hello friend\n",
    "     how are you?'''"
   ]
  }
 ],
 "metadata": {
  "kernelspec": {
   "display_name": "Python 3 (ipykernel)",
   "language": "python",
   "name": "python3"
  },
  "language_info": {
   "codemirror_mode": {
    "name": "ipython",
    "version": 3
   },
   "file_extension": ".py",
   "mimetype": "text/x-python",
   "name": "python",
   "nbconvert_exporter": "python",
   "pygments_lexer": "ipython3",
   "version": "3.9.13"
  }
 },
 "nbformat": 4,
 "nbformat_minor": 5
}

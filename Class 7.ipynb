{
 "cells": [
  {
   "cell_type": "markdown",
   "id": "dd656ad7",
   "metadata": {},
   "source": [
    "# operators"
   ]
  },
  {
   "cell_type": "code",
   "execution_count": 2,
   "id": "f99c4a51",
   "metadata": {},
   "outputs": [
    {
     "name": "stdout",
     "output_type": "stream",
     "text": [
      "7\n",
      "3\n",
      "2.5\n",
      "10\n",
      "2\n",
      "1\n"
     ]
    }
   ],
   "source": [
    "a=5\n",
    "b=2\n",
    "\n",
    "print(a+b)\n",
    "print(a-b)\n",
    "print(a/b)\n",
    "print(a*b)\n",
    "print(a//b) ##floor division gives quotient\n",
    "print(a%b) #modulus--gives reminder\n"
   ]
  },
  {
   "cell_type": "code",
   "execution_count": null,
   "id": "ae6be8e2",
   "metadata": {},
   "outputs": [],
   "source": [
    "#relational operator"
   ]
  },
  {
   "cell_type": "code",
   "execution_count": 3,
   "id": "c9fcd4ea",
   "metadata": {},
   "outputs": [
    {
     "name": "stdout",
     "output_type": "stream",
     "text": [
      "False\n",
      "True\n",
      "True\n",
      "True\n",
      "False\n",
      "False\n"
     ]
    }
   ],
   "source": [
    "a=5\n",
    "b=4\n",
    "\n",
    "print(a==b)\n",
    "print(a!=b)\n",
    "print(a>b)\n",
    "print(a>=b)\n",
    "print(a<b)\n",
    "print(a<=b)"
   ]
  },
  {
   "cell_type": "code",
   "execution_count": 4,
   "id": "eaad1fbf",
   "metadata": {},
   "outputs": [
    {
     "name": "stdout",
     "output_type": "stream",
     "text": [
      "False\n"
     ]
    }
   ],
   "source": [
    "a=5\n",
    "b=\"5\"\n",
    "print(a==b)"
   ]
  },
  {
   "cell_type": "code",
   "execution_count": 5,
   "id": "3d42eb82",
   "metadata": {},
   "outputs": [],
   "source": [
    "#assignment operator"
   ]
  },
  {
   "cell_type": "code",
   "execution_count": 6,
   "id": "5c274dc4",
   "metadata": {},
   "outputs": [],
   "source": [
    "a=5"
   ]
  },
  {
   "cell_type": "code",
   "execution_count": 9,
   "id": "b54cc14c",
   "metadata": {},
   "outputs": [
    {
     "name": "stdout",
     "output_type": "stream",
     "text": [
      "8\n"
     ]
    }
   ],
   "source": [
    "a=5\n",
    "a+=3\n",
    "print(a)"
   ]
  },
  {
   "cell_type": "code",
   "execution_count": 10,
   "id": "cb214e45",
   "metadata": {},
   "outputs": [],
   "source": [
    "#Logical operator\n",
    "#and , or , not\n"
   ]
  },
  {
   "cell_type": "code",
   "execution_count": 11,
   "id": "6a5753f3",
   "metadata": {},
   "outputs": [
    {
     "name": "stdout",
     "output_type": "stream",
     "text": [
      "True\n",
      "False\n"
     ]
    }
   ],
   "source": [
    "print(True and True)\n",
    "print(True and False)"
   ]
  },
  {
   "cell_type": "code",
   "execution_count": 12,
   "id": "84daaf39",
   "metadata": {},
   "outputs": [
    {
     "name": "stdout",
     "output_type": "stream",
     "text": [
      "True\n",
      "True\n"
     ]
    }
   ],
   "source": [
    "print(True or True)\n",
    "print(True or False)"
   ]
  },
  {
   "cell_type": "code",
   "execution_count": 14,
   "id": "61acf037",
   "metadata": {},
   "outputs": [
    {
     "name": "stdout",
     "output_type": "stream",
     "text": [
      "False\n",
      "True\n"
     ]
    }
   ],
   "source": [
    "print(not True)\n",
    "print(not False)"
   ]
  },
  {
   "cell_type": "markdown",
   "id": "63a75915",
   "metadata": {},
   "source": [
    "# Loops\n",
    "#if, for,while"
   ]
  },
  {
   "cell_type": "code",
   "execution_count": null,
   "id": "be650a37",
   "metadata": {},
   "outputs": [],
   "source": [
    "#it is conditional statment"
   ]
  },
  {
   "cell_type": "code",
   "execution_count": 7,
   "id": "1e8c5a4d",
   "metadata": {},
   "outputs": [
    {
     "name": "stdout",
     "output_type": "stream",
     "text": [
      "yes\n"
     ]
    }
   ],
   "source": [
    "name=\"shubham\"\n",
    "if name==\"shubham\":\n",
    "    print(\"yes\")\n",
    "else:\n",
    "        print(\"no\")"
   ]
  },
  {
   "cell_type": "code",
   "execution_count": 19,
   "id": "64facf5c",
   "metadata": {},
   "outputs": [
    {
     "name": "stdout",
     "output_type": "stream",
     "text": [
      "pass\n"
     ]
    }
   ],
   "source": [
    "name=\"shubham\"\n",
    "mark=65\n",
    "\n",
    "if name==\"shubham\" and mark>50:\n",
    "    print(\"pass\")\n",
    "elif name==\"shubham\" and mark>60:\n",
    "    print(\"distinction\")  \n",
    "else:\n",
    "    print(fail)"
   ]
  },
  {
   "cell_type": "code",
   "execution_count": 21,
   "id": "689a3a80",
   "metadata": {},
   "outputs": [
    {
     "name": "stdout",
     "output_type": "stream",
     "text": [
      "Dist\n"
     ]
    }
   ],
   "source": [
    "#name=\"kohli\"\n",
    "if name==\"shubham\":\n",
    "    if mark>50 :\n",
    "        if  mark>60:\n",
    "            print(\"Dist\")\n",
    "        else:\n",
    "            print(\"first\")\n",
    "    else:\n",
    "        print(\"fail\")\n",
    "else:\n",
    "    print(\"name is not Shubham\")\n",
    "    "
   ]
  },
  {
   "cell_type": "code",
   "execution_count": null,
   "id": "5d7753d3",
   "metadata": {},
   "outputs": [],
   "source": [
    "#get input from user and check the data type , if it is string , check its is alphabet or numbr\n",
    "#123\n",
    "#string\n",
    "#digit\n",
    "\n",
    "#sachin\n",
    "#string\n",
    "#aplhabet\n",
    "\n",
    "#sachin123\n",
    "#string\n",
    "#not a digit , not a alphabet"
   ]
  },
  {
   "cell_type": "code",
   "execution_count": 14,
   "id": "3adafd98",
   "metadata": {},
   "outputs": [
    {
     "name": "stdout",
     "output_type": "stream",
     "text": [
      "Enter something: 45\n",
      "given input is string\n",
      "Input contains digits 45\n"
     ]
    }
   ],
   "source": [
    "a = input(\"Enter something: \")\n",
    "if isinstance(a,str):\n",
    "    print(\"given input is string\")\n",
    "if a.isalpha():\n",
    "    print(\"Input contains alphabet character\", a)\n",
    "elif a.isdigit():\n",
    "    print(\"Input contains digits\", a)\n",
    "else:\n",
    "    print(\"Input contains alphanumeric character\", a)"
   ]
  },
  {
   "cell_type": "code",
   "execution_count": null,
   "id": "239fc30e",
   "metadata": {},
   "outputs": [],
   "source": [
    "#traffic ligt -> red/green/yellow\n",
    "#police -> yes/no\n",
    "#use 2 input\n",
    "# police yes, singal is red stop\n",
    "# police no, singal is red go\n",
    "# police yes, singal is yellow slow down\n",
    "# police no, singal is yellow go\n",
    "#signal green , go"
   ]
  },
  {
   "cell_type": "code",
   "execution_count": 23,
   "id": "8c7303fc",
   "metadata": {},
   "outputs": [
    {
     "name": "stdout",
     "output_type": "stream",
     "text": [
      "traffic ligt is :green\n",
      "Police is here Yes or No :\n",
      "go\n"
     ]
    }
   ],
   "source": [
    "A=input(\"traffic ligt is :\")\n",
    "police=input(\"Police is here Yes or No :\")\n",
    "if police==\"yes\" and A==\"red\" :\n",
    "    print(\"singal is red stop\")\n",
    "elif police==\"no\" and A==\"red\" :\n",
    "    print(\"singal is red go\")\n",
    "elif police==\"yes\" and A==\"yellow\" :\n",
    "    print(\"singal is yellow slow down\") \n",
    "elif police==\"no\" and A==\"yellow\" :\n",
    "    print(\"singal is yellow go\") \n",
    "elif A==\"green\" or police==\"\":\n",
    "    print(\"go\")\n",
    "else:\n",
    "    print(\"invalid spelling\")\n",
    "    \n",
    "    \n",
    "    \n",
    "\n",
    "\n"
   ]
  },
  {
   "cell_type": "code",
   "execution_count": null,
   "id": "35affae2",
   "metadata": {},
   "outputs": [],
   "source": []
  }
 ],
 "metadata": {
  "kernelspec": {
   "display_name": "Python 3 (ipykernel)",
   "language": "python",
   "name": "python3"
  },
  "language_info": {
   "codemirror_mode": {
    "name": "ipython",
    "version": 3
   },
   "file_extension": ".py",
   "mimetype": "text/x-python",
   "name": "python",
   "nbconvert_exporter": "python",
   "pygments_lexer": "ipython3",
   "version": "3.9.13"
  }
 },
 "nbformat": 4,
 "nbformat_minor": 5
}

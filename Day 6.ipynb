{
 "cells": [
  {
   "cell_type": "markdown",
   "id": "9d399369",
   "metadata": {},
   "source": [
    "# Dictionary"
   ]
  },
  {
   "cell_type": "code",
   "execution_count": 1,
   "id": "a756c9f4",
   "metadata": {},
   "outputs": [],
   "source": [
    "###\n",
    "a=[[\"kumar\",\"21\",\"mumbai\"],[\"akshay\",\"delhi\",\"30\"]]"
   ]
  },
  {
   "cell_type": "code",
   "execution_count": 2,
   "id": "4e5e02fc",
   "metadata": {},
   "outputs": [],
   "source": [
    "a={\"name\":\"akshay\",\"age\":\"21\",\"location\":\"mumbai\"}"
   ]
  },
  {
   "cell_type": "code",
   "execution_count": 3,
   "id": "2e7dc813",
   "metadata": {},
   "outputs": [],
   "source": [
    "#{\"key\":\"value\",\"key\":\"value\"}"
   ]
  },
  {
   "cell_type": "code",
   "execution_count": null,
   "id": "91af7ccf",
   "metadata": {},
   "outputs": [],
   "source": [
    "#type,isinstance,min,max,sorted,len"
   ]
  },
  {
   "cell_type": "code",
   "execution_count": 9,
   "id": "c2701735",
   "metadata": {},
   "outputs": [
    {
     "name": "stdout",
     "output_type": "stream",
     "text": [
      "<class 'dict'>\n",
      "3\n",
      "True\n",
      "age\n",
      "name\n",
      "['age', 'location', 'name']\n"
     ]
    }
   ],
   "source": [
    "print(type(a))\n",
    "print(len(a))\n",
    "print(isinstance(a,type(a)))\n",
    "print(min(a))\n",
    "print(max(a))\n",
    "print(sorted(a))\n"
   ]
  },
  {
   "cell_type": "code",
   "execution_count": 12,
   "id": "bfe7af22",
   "metadata": {},
   "outputs": [
    {
     "name": "stdout",
     "output_type": "stream",
     "text": [
      "dict_keys(['name', 'age', 'location'])\n",
      "dict_values(['akshay', '21', 'mumbai'])\n",
      "dict_items([('name', 'akshay'), ('age', '21'), ('location', 'mumbai')])\n"
     ]
    }
   ],
   "source": [
    "a={\"name\":\"akshay\",\"age\":\"21\",\"location\":\"mumbai\"}\n",
    "print(a.keys())#all key in list\n",
    "print(a.values())#all the values in list\n",
    "print(a.items())#all key values in list of tuples"
   ]
  },
  {
   "cell_type": "code",
   "execution_count": 13,
   "id": "bc16887a",
   "metadata": {},
   "outputs": [],
   "source": [
    "b=a.items()"
   ]
  },
  {
   "cell_type": "code",
   "execution_count": 14,
   "id": "4b523e39",
   "metadata": {},
   "outputs": [
    {
     "name": "stdout",
     "output_type": "stream",
     "text": [
      "dict_items([('name', 'akshay'), ('age', '21'), ('location', 'mumbai')])\n"
     ]
    }
   ],
   "source": [
    "print(b)"
   ]
  },
  {
   "cell_type": "code",
   "execution_count": 15,
   "id": "5cb45bfc",
   "metadata": {},
   "outputs": [],
   "source": [
    "a={\"name\":\"akshay\",\"age\":\"21\",\"location\":\"mumbai\"}\n"
   ]
  },
  {
   "cell_type": "code",
   "execution_count": 16,
   "id": "5e7c1508",
   "metadata": {},
   "outputs": [
    {
     "name": "stdout",
     "output_type": "stream",
     "text": [
      "akshay\n"
     ]
    }
   ],
   "source": [
    "print(a[\"name\"])"
   ]
  },
  {
   "cell_type": "code",
   "execution_count": 17,
   "id": "f7b0149c",
   "metadata": {},
   "outputs": [
    {
     "ename": "KeyError",
     "evalue": "'demo'",
     "output_type": "error",
     "traceback": [
      "\u001b[1;31m---------------------------------------------------------------------------\u001b[0m",
      "\u001b[1;31mKeyError\u001b[0m                                  Traceback (most recent call last)",
      "\u001b[1;32m~\\AppData\\Local\\Temp\\ipykernel_15648\\2687882771.py\u001b[0m in \u001b[0;36m<module>\u001b[1;34m\u001b[0m\n\u001b[1;32m----> 1\u001b[1;33m \u001b[0mprint\u001b[0m\u001b[1;33m(\u001b[0m\u001b[0ma\u001b[0m\u001b[1;33m[\u001b[0m\u001b[1;34m\"demo\"\u001b[0m\u001b[1;33m]\u001b[0m\u001b[1;33m)\u001b[0m\u001b[1;33m\u001b[0m\u001b[1;33m\u001b[0m\u001b[0m\n\u001b[0m",
      "\u001b[1;31mKeyError\u001b[0m: 'demo'"
     ]
    }
   ],
   "source": [
    "print(a[\"demo\"])"
   ]
  },
  {
   "cell_type": "code",
   "execution_count": null,
   "id": "3cb0b77d",
   "metadata": {},
   "outputs": [],
   "source": [
    "#how handle kyeError"
   ]
  },
  {
   "cell_type": "code",
   "execution_count": 18,
   "id": "f3c37362",
   "metadata": {},
   "outputs": [
    {
     "name": "stdout",
     "output_type": "stream",
     "text": [
      "akshay\n"
     ]
    }
   ],
   "source": [
    "print(a.get(\"name\"))"
   ]
  },
  {
   "cell_type": "code",
   "execution_count": 21,
   "id": "bd8c3f5e",
   "metadata": {},
   "outputs": [
    {
     "name": "stdout",
     "output_type": "stream",
     "text": [
      "hey\n",
      "akshay\n"
     ]
    }
   ],
   "source": [
    "print(a.get(\"demo\",\"hey\"))\n",
    "#if name alredy present \n",
    "print(a.get(\"name\",\"hey\"))"
   ]
  },
  {
   "cell_type": "code",
   "execution_count": 22,
   "id": "f6d4832c",
   "metadata": {},
   "outputs": [],
   "source": [
    "a={\"name\":\"akshay\",\"age\":\"21\",\"location\":\"mumbai\"}"
   ]
  },
  {
   "cell_type": "code",
   "execution_count": 23,
   "id": "8e0a6b52",
   "metadata": {},
   "outputs": [
    {
     "name": "stdout",
     "output_type": "stream",
     "text": [
      "{'name': 'akshay', 'age': '21', 'location': 'mumbai', 'demo': 'test'}\n"
     ]
    }
   ],
   "source": [
    "a[\"demo\"]=\"test\"#add last\n",
    "print(a)"
   ]
  },
  {
   "cell_type": "code",
   "execution_count": 25,
   "id": "e4c5d702",
   "metadata": {},
   "outputs": [
    {
     "name": "stdout",
     "output_type": "stream",
     "text": [
      "{'name': 'sharukh', 'age': '21', 'location': 'mumbai', 'demo': 'test'}\n"
     ]
    }
   ],
   "source": [
    "a[\"name\"]=\"sharukh\"#update\n",
    "print(a)"
   ]
  },
  {
   "cell_type": "code",
   "execution_count": 26,
   "id": "2462605d",
   "metadata": {},
   "outputs": [
    {
     "name": "stdout",
     "output_type": "stream",
     "text": [
      "{'name': 'sharukh', 'age': '21', 'location': 'mumbai'}\n"
     ]
    }
   ],
   "source": [
    "del a[\"demo\"]\n",
    "print(a)"
   ]
  },
  {
   "cell_type": "code",
   "execution_count": 27,
   "id": "6adc9356",
   "metadata": {},
   "outputs": [
    {
     "name": "stdout",
     "output_type": "stream",
     "text": [
      "mumbai\n",
      "{'name': 'sharukh', 'age': '21'}\n"
     ]
    }
   ],
   "source": [
    "b=a.pop(\"location\")\n",
    "print(b)\n",
    "print(a)"
   ]
  },
  {
   "cell_type": "code",
   "execution_count": 29,
   "id": "c3b5054c",
   "metadata": {},
   "outputs": [
    {
     "name": "stdout",
     "output_type": "stream",
     "text": [
      "('location', 'mumbai')\n",
      "{'name': 'akshay', 'age': '21'}\n"
     ]
    }
   ],
   "source": [
    "a={\"name\":\"akshay\",\"age\":\"21\",\"location\":\"mumbai\"}\n",
    "b=a.popitem()\n",
    "print(b)\n",
    "print(a)"
   ]
  },
  {
   "cell_type": "code",
   "execution_count": 32,
   "id": "3d4470e7",
   "metadata": {},
   "outputs": [
    {
     "name": "stdout",
     "output_type": "stream",
     "text": [
      "{'name': 'akshay', 'location': 'pune', 'age': 30}\n"
     ]
    }
   ],
   "source": [
    "a={\"name\":\"akshay\",\"location\":\"pune\"}\n",
    "b={\"age\":30}\n",
    "a.update(b)#dictionary into dic\n",
    "print(a)"
   ]
  },
  {
   "cell_type": "markdown",
   "id": "fdbcf758",
   "metadata": {},
   "source": [
    "# what is int,string,list,tuple,sets,dictionary"
   ]
  },
  {
   "cell_type": "code",
   "execution_count": null,
   "id": "4828739f",
   "metadata": {},
   "outputs": [],
   "source": [
    "#operator,loops-practice   datatype is very imp"
   ]
  }
 ],
 "metadata": {
  "kernelspec": {
   "display_name": "Python 3 (ipykernel)",
   "language": "python",
   "name": "python3"
  },
  "language_info": {
   "codemirror_mode": {
    "name": "ipython",
    "version": 3
   },
   "file_extension": ".py",
   "mimetype": "text/x-python",
   "name": "python",
   "nbconvert_exporter": "python",
   "pygments_lexer": "ipython3",
   "version": "3.9.13"
  }
 },
 "nbformat": 4,
 "nbformat_minor": 5
}

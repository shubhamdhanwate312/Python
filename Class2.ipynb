{
 "cells": [
  {
   "cell_type": "markdown",
   "id": "7d803342",
   "metadata": {},
   "source": [
    "# Day 2"
   ]
  },
  {
   "cell_type": "code",
   "execution_count": 7,
   "id": "039801aa",
   "metadata": {},
   "outputs": [
    {
     "name": "stdout",
     "output_type": "stream",
     "text": [
      "welcome to todays class\n"
     ]
    }
   ],
   "source": [
    "print(\"welcome to todays class\")"
   ]
  },
  {
   "cell_type": "code",
   "execution_count": 3,
   "id": "7a1b919e",
   "metadata": {},
   "outputs": [
    {
     "name": "stdout",
     "output_type": "stream",
     "text": [
      "wlecome to todays class\n"
     ]
    }
   ],
   "source": [
    "a=\"wlecome to todays class\"\n",
    "print(a)"
   ]
  },
  {
   "cell_type": "code",
   "execution_count": 5,
   "id": "1b5309b7",
   "metadata": {},
   "outputs": [
    {
     "ename": "SyntaxError",
     "evalue": "invalid syntax (703776344.py, line 3)",
     "output_type": "error",
     "traceback": [
      "\u001b[1;36m  File \u001b[1;32m\"C:\\Users\\SHUBHAM\\AppData\\Local\\Temp\\ipykernel_11188\\703776344.py\"\u001b[1;36m, line \u001b[1;32m3\u001b[0m\n\u001b[1;33m    1a=\"test1\"\u001b[0m\n\u001b[1;37m     ^\u001b[0m\n\u001b[1;31mSyntaxError\u001b[0m\u001b[1;31m:\u001b[0m invalid syntax\n"
     ]
    }
   ],
   "source": [
    "#variable name should not start with number\n",
    "a1=\"test\"\n",
    "1a=\"test1\"\n",
    "print(a1,1a)"
   ]
  },
  {
   "cell_type": "code",
   "execution_count": 6,
   "id": "f07f306b",
   "metadata": {},
   "outputs": [
    {
     "ename": "SyntaxError",
     "evalue": "invalid syntax (4170172218.py, line 2)",
     "output_type": "error",
     "traceback": [
      "\u001b[1;36m  File \u001b[1;32m\"C:\\Users\\SHUBHAM\\AppData\\Local\\Temp\\ipykernel_11188\\4170172218.py\"\u001b[1;36m, line \u001b[1;32m2\u001b[0m\n\u001b[1;33m    a$=\"test\"\u001b[0m\n\u001b[1;37m     ^\u001b[0m\n\u001b[1;31mSyntaxError\u001b[0m\u001b[1;31m:\u001b[0m invalid syntax\n"
     ]
    }
   ],
   "source": [
    "#variable name should not have any special charecter\n",
    "a$=\"test\"\n",
    "print(a$)"
   ]
  },
  {
   "cell_type": "code",
   "execution_count": 18,
   "id": "739edee2",
   "metadata": {},
   "outputs": [],
   "source": [
    "#data tpyes \n",
    "#String is nothing but double coat or collection of char\n",
    "\n",
    "a=\"ShubhamDhanwate\""
   ]
  },
  {
   "cell_type": "code",
   "execution_count": 19,
   "id": "79cfcd77",
   "metadata": {},
   "outputs": [
    {
     "name": "stdout",
     "output_type": "stream",
     "text": [
      "ShubhamDhanwate\n",
      "<class 'str'>\n",
      "True\n"
     ]
    }
   ],
   "source": [
    "print(a)\n",
    "print(type(a))\n",
    "print(isinstance(a,str))"
   ]
  },
  {
   "cell_type": "code",
   "execution_count": 20,
   "id": "f6c77be9",
   "metadata": {},
   "outputs": [
    {
     "name": "stdout",
     "output_type": "stream",
     "text": [
      "15\n",
      "D\n",
      "w\n",
      "['D', 'S', 'a', 'a', 'a', 'b', 'e', 'h', 'h', 'h', 'm', 'n', 't', 'u', 'w']\n"
     ]
    }
   ],
   "source": [
    "print(len(a))\n",
    "print(min(a))\n",
    "print(max(a))\n",
    "print(sorted(a))"
   ]
  },
  {
   "cell_type": "code",
   "execution_count": 21,
   "id": "a763b6d8",
   "metadata": {},
   "outputs": [
    {
     "name": "stdout",
     "output_type": "stream",
     "text": [
      "shubhamdhanwate\n",
      "SHUBHAMDHANWATE\n",
      "sHUBHAMdHANWATE\n"
     ]
    }
   ],
   "source": [
    "print(a.lower())\n",
    "print(a.upper())\n",
    "print(a.swapcase())\n"
   ]
  },
  {
   "cell_type": "code",
   "execution_count": 22,
   "id": "48df5506",
   "metadata": {},
   "outputs": [
    {
     "name": "stdout",
     "output_type": "stream",
     "text": [
      "True\n"
     ]
    }
   ],
   "source": [
    "a=\"shubhamdhanwate\"\n",
    "print(a.islower())"
   ]
  },
  {
   "cell_type": "code",
   "execution_count": 24,
   "id": "9a5168d8",
   "metadata": {},
   "outputs": [
    {
     "name": "stdout",
     "output_type": "stream",
     "text": [
      "True\n"
     ]
    }
   ],
   "source": [
    "a=\"SHUBHAMDHANWATE\"\n",
    "print(a.isupper())"
   ]
  },
  {
   "cell_type": "code",
   "execution_count": 25,
   "id": "8a14de73",
   "metadata": {},
   "outputs": [
    {
     "name": "stdout",
     "output_type": "stream",
     "text": [
      "True\n"
     ]
    }
   ],
   "source": [
    "a=\"123\"\n",
    "print(a.isdigit())"
   ]
  },
  {
   "cell_type": "code",
   "execution_count": 26,
   "id": "c115809d",
   "metadata": {},
   "outputs": [
    {
     "name": "stdout",
     "output_type": "stream",
     "text": [
      "True\n"
     ]
    }
   ],
   "source": [
    "a=\"shubham\"\n",
    "print(a.isalpha())"
   ]
  },
  {
   "cell_type": "code",
   "execution_count": 27,
   "id": "4aeb8d34",
   "metadata": {},
   "outputs": [
    {
     "name": "stdout",
     "output_type": "stream",
     "text": [
      "True\n"
     ]
    }
   ],
   "source": [
    "a=\"shubham123\"\n",
    "print(a.isalnum())"
   ]
  },
  {
   "cell_type": "code",
   "execution_count": 30,
   "id": "826ee9e5",
   "metadata": {},
   "outputs": [
    {
     "name": "stdout",
     "output_type": "stream",
     "text": [
      "True\n",
      "True\n"
     ]
    }
   ],
   "source": [
    "a=\"shubham\"\n",
    "print(a.startswith(\"s\"))\n",
    "print(a.endswith(\"m\"))"
   ]
  },
  {
   "cell_type": "code",
   "execution_count": 32,
   "id": "71ec11d4",
   "metadata": {},
   "outputs": [
    {
     "name": "stdout",
     "output_type": "stream",
     "text": [
      "Shubh$m Dh$nw$te\n",
      "Shubh$m Dhanwate\n"
     ]
    }
   ],
   "source": [
    "a=\"Shubham Dhanwate\"\n",
    "print(a.replace(\"a\",\"$\"))\n",
    "print(a.replace(\"a\",\"$\",1))"
   ]
  },
  {
   "cell_type": "code",
   "execution_count": 33,
   "id": "d8dde0cf",
   "metadata": {},
   "outputs": [
    {
     "name": "stdout",
     "output_type": "stream",
     "text": [
      "3\n"
     ]
    }
   ],
   "source": [
    "print(a.count(\"a\"))"
   ]
  },
  {
   "cell_type": "code",
   "execution_count": 35,
   "id": "9f4fb1b7",
   "metadata": {},
   "outputs": [
    {
     "name": "stdout",
     "output_type": "stream",
     "text": [
      "['Shubh', 'm Dh', 'nw', 'te']\n",
      "['Shubh', 'm Dhanwate']\n"
     ]
    }
   ],
   "source": [
    "print(a.split(\"a\"))\n",
    "print(a.split(\"a\",1))"
   ]
  },
  {
   "cell_type": "code",
   "execution_count": 37,
   "id": "c08e156e",
   "metadata": {},
   "outputs": [
    {
     "name": "stdout",
     "output_type": "stream",
     "text": [
      "hey\n"
     ]
    },
    {
     "data": {
      "text/plain": [
       "'hey'"
      ]
     },
     "execution_count": 37,
     "metadata": {},
     "output_type": "execute_result"
    }
   ],
   "source": [
    "input()"
   ]
  },
  {
   "cell_type": "code",
   "execution_count": 39,
   "id": "34df4966",
   "metadata": {},
   "outputs": [
    {
     "name": "stdout",
     "output_type": "stream",
     "text": [
      "enter something\n",
      "hey\n"
     ]
    }
   ],
   "source": [
    "a=input(\"enter something\\n\")"
   ]
  },
  {
   "cell_type": "code",
   "execution_count": 40,
   "id": "51a75e9e",
   "metadata": {},
   "outputs": [
    {
     "name": "stdout",
     "output_type": "stream",
     "text": [
      "hey\n"
     ]
    }
   ],
   "source": [
    "print(a)"
   ]
  },
  {
   "cell_type": "code",
   "execution_count": null,
   "id": "f812dbd2",
   "metadata": {},
   "outputs": [],
   "source": [
    "#1 \n",
    "#a=\"welcome to todays class kjash\"\n",
    "#output=\"welcome to todays class kjash\""
   ]
  },
  {
   "cell_type": "code",
   "execution_count": 4,
   "id": "ae01cd75",
   "metadata": {},
   "outputs": [
    {
     "name": "stdout",
     "output_type": "stream",
     "text": [
      "welcometotodaysclasskjash\n"
     ]
    }
   ],
   "source": [
    "a =\"welcome to todays class kjash\"\n",
    "b=a.replace(\" \",\"\")\n",
    "print(b)\n"
   ]
  },
  {
   "cell_type": "code",
   "execution_count": null,
   "id": "f0b26e3a",
   "metadata": {},
   "outputs": [],
   "source": [
    "#2 get input from user and check it is alphabet or not"
   ]
  },
  {
   "cell_type": "code",
   "execution_count": 11,
   "id": "71918521",
   "metadata": {},
   "outputs": [
    {
     "name": "stdout",
     "output_type": "stream",
     "text": [
      "enter something\n"
     ]
    }
   ],
   "source": [
    "a=input(\"enter something\")\n"
   ]
  },
  {
   "cell_type": "code",
   "execution_count": 12,
   "id": "114a3729",
   "metadata": {},
   "outputs": [
    {
     "name": "stdout",
     "output_type": "stream",
     "text": [
      "False\n"
     ]
    }
   ],
   "source": [
    "print(a.isalpha())"
   ]
  },
  {
   "cell_type": "code",
   "execution_count": null,
   "id": "a2e0be91",
   "metadata": {},
   "outputs": [],
   "source": []
  },
  {
   "cell_type": "code",
   "execution_count": null,
   "id": "83e14cea",
   "metadata": {},
   "outputs": [],
   "source": []
  }
 ],
 "metadata": {
  "kernelspec": {
   "display_name": "Python 3 (ipykernel)",
   "language": "python",
   "name": "python3"
  },
  "language_info": {
   "codemirror_mode": {
    "name": "ipython",
    "version": 3
   },
   "file_extension": ".py",
   "mimetype": "text/x-python",
   "name": "python",
   "nbconvert_exporter": "python",
   "pygments_lexer": "ipython3",
   "version": "3.9.13"
  }
 },
 "nbformat": 4,
 "nbformat_minor": 5
}

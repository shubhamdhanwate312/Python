{
 "cells": [
  {
   "cell_type": "code",
   "execution_count": 1,
   "id": "be4408f7",
   "metadata": {},
   "outputs": [],
   "source": [
    "###"
   ]
  },
  {
   "cell_type": "code",
   "execution_count": 9,
   "id": "d4922e63",
   "metadata": {},
   "outputs": [],
   "source": [
    "a=['apple','apple','mango','mango','orange']\n",
    "\n",
    "#output:a={\"apple\":2,\"mango\":2,\"orange\":1}\n"
   ]
  },
  {
   "cell_type": "code",
   "execution_count": 17,
   "id": "ded79398",
   "metadata": {},
   "outputs": [
    {
     "name": "stdout",
     "output_type": "stream",
     "text": [
      "{'apple': 2, 'mango': 2, 'orange': 1}\n"
     ]
    }
   ],
   "source": [
    "ab={}\n",
    "for i in a:\n",
    "    if i in ab.keys():\n",
    "        value=ab.get(i)\n",
    "        value+=1\n",
    "        ab[i]=value\n",
    "    else:\n",
    "        ab[i]=1\n",
    "print(ab)    \n",
    "    \n",
    "    "
   ]
  },
  {
   "cell_type": "code",
   "execution_count": null,
   "id": "3394e223",
   "metadata": {},
   "outputs": [],
   "source": []
  },
  {
   "cell_type": "code",
   "execution_count": null,
   "id": "91fdf6b4",
   "metadata": {},
   "outputs": [],
   "source": [
    "###"
   ]
  },
  {
   "cell_type": "code",
   "execution_count": 18,
   "id": "b31dbad7",
   "metadata": {},
   "outputs": [
    {
     "name": "stdout",
     "output_type": "stream",
     "text": [
      "apple\n",
      "orange\n",
      "hero splender\n",
      "pepsi\n"
     ]
    }
   ],
   "source": [
    "a={\"apple\":\"fruit\",\"orange\":\"fruit\",\"hero splender\":\"Bike\",\"pepsi\":\"Drink\"}\n",
    "for k in a.keys():\n",
    "    print(k)"
   ]
  },
  {
   "cell_type": "code",
   "execution_count": 19,
   "id": "a1ad6d6d",
   "metadata": {},
   "outputs": [
    {
     "name": "stdout",
     "output_type": "stream",
     "text": [
      "fruit\n",
      "fruit\n",
      "Bike\n",
      "Drink\n"
     ]
    }
   ],
   "source": [
    "for v in a.values():\n",
    "    print(v)"
   ]
  },
  {
   "cell_type": "code",
   "execution_count": 21,
   "id": "d5be9479",
   "metadata": {},
   "outputs": [
    {
     "data": {
      "text/plain": [
       "dict_items([('apple', 'fruit'), ('orange', 'fruit'), ('hero splender', 'Bike'), ('pepsi', 'Drink')])"
      ]
     },
     "execution_count": 21,
     "metadata": {},
     "output_type": "execute_result"
    }
   ],
   "source": [
    "a.items()"
   ]
  },
  {
   "cell_type": "code",
   "execution_count": 22,
   "id": "ba7c4681",
   "metadata": {},
   "outputs": [
    {
     "name": "stdout",
     "output_type": "stream",
     "text": [
      "{'fruit': 'orange', 'Bike': 'hero splender', 'Drink': 'pepsi'}\n"
     ]
    }
   ],
   "source": [
    "New_dict={}\n",
    "for k,v in a.items():\n",
    "    New_dict[v]=k\n",
    "print(New_dict)   "
   ]
  },
  {
   "cell_type": "code",
   "execution_count": null,
   "id": "8c1ac795",
   "metadata": {},
   "outputs": [],
   "source": [
    "###"
   ]
  },
  {
   "cell_type": "code",
   "execution_count": 19,
   "id": "6387e19e",
   "metadata": {},
   "outputs": [],
   "source": [
    "a=[5,4,10,21,1,20]  #sorted term without using in build function"
   ]
  },
  {
   "cell_type": "code",
   "execution_count": 24,
   "id": "62a761be",
   "metadata": {},
   "outputs": [
    {
     "name": "stdout",
     "output_type": "stream",
     "text": [
      "sorted list:  [1, 4, 5, 10, 20, 21]\n"
     ]
    }
   ],
   "source": [
    "for i in range(len(a)):\n",
    "  \n",
    "    for j in range(0,len(a)-i-1):\n",
    "        \n",
    "        if a[j]>a[j+1]:\n",
    "            a[j],a[j+1]=a[j+1],a[j]\n",
    "\n",
    "print(\"sorted list: \",a)            \n",
    "    \n",
    "       \n",
    "            \n",
    "            \n",
    "        "
   ]
  }
 ],
 "metadata": {
  "kernelspec": {
   "display_name": "Python 3 (ipykernel)",
   "language": "python",
   "name": "python3"
  },
  "language_info": {
   "codemirror_mode": {
    "name": "ipython",
    "version": 3
   },
   "file_extension": ".py",
   "mimetype": "text/x-python",
   "name": "python",
   "nbconvert_exporter": "python",
   "pygments_lexer": "ipython3",
   "version": "3.9.13"
  }
 },
 "nbformat": 4,
 "nbformat_minor": 5
}

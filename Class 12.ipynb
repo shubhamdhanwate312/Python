{
 "cells": [
  {
   "cell_type": "markdown",
   "id": "21ed4782",
   "metadata": {},
   "source": [
    "# function"
   ]
  },
  {
   "cell_type": "code",
   "execution_count": 2,
   "id": "84d82f13",
   "metadata": {},
   "outputs": [
    {
     "data": {
      "text/plain": [
       "9"
      ]
     },
     "execution_count": 2,
     "metadata": {},
     "output_type": "execute_result"
    }
   ],
   "source": [
    "def test(a,b):\n",
    "    return a+b\n",
    "test(4,5)"
   ]
  },
  {
   "cell_type": "code",
   "execution_count": 3,
   "id": "7b3528ea",
   "metadata": {},
   "outputs": [
    {
     "data": {
      "text/plain": [
       "30"
      ]
     },
     "execution_count": 3,
     "metadata": {},
     "output_type": "execute_result"
    }
   ],
   "source": [
    "test(10,20)"
   ]
  },
  {
   "cell_type": "code",
   "execution_count": 4,
   "id": "913fef9a",
   "metadata": {},
   "outputs": [
    {
     "name": "stdout",
     "output_type": "stream",
     "text": [
      "9\n",
      "None\n"
     ]
    }
   ],
   "source": [
    "def test(a,b):\n",
    "    print(a+b)\n",
    "a=test(5,4)\n",
    "print(a)\n",
    "    "
   ]
  },
  {
   "cell_type": "code",
   "execution_count": 1,
   "id": "7bfb8dc2",
   "metadata": {},
   "outputs": [
    {
     "name": "stdout",
     "output_type": "stream",
     "text": [
      "one\n",
      "python\n"
     ]
    }
   ],
   "source": [
    "a=\"one\" #global variable accessing anywhere \n",
    "\n",
    "def test():\n",
    "    a=\"python\" #Local variable  only accessing into function\n",
    "    return (a)\n",
    "print(a)\n",
    "a=test()\n",
    "print(a)"
   ]
  },
  {
   "cell_type": "code",
   "execution_count": 8,
   "id": "ad0a6dea",
   "metadata": {},
   "outputs": [
    {
     "name": "stdout",
     "output_type": "stream",
     "text": [
      "one\n",
      "python\n"
     ]
    }
   ],
   "source": [
    "a=\"one\"\n",
    "def test(a):\n",
    "    print(a)\n",
    "    a=\"python\"\n",
    "    print(a)\n",
    "test(a)    "
   ]
  },
  {
   "cell_type": "code",
   "execution_count": 9,
   "id": "4e8b186d",
   "metadata": {},
   "outputs": [
    {
     "name": "stdout",
     "output_type": "stream",
     "text": [
      "python\n",
      "python\n"
     ]
    }
   ],
   "source": [
    "##\n",
    "a=\"one\"\n",
    "def test():\n",
    "    global a\n",
    "    a=\"python\"\n",
    "    print(a)\n",
    "test()\n",
    "print(a)"
   ]
  },
  {
   "cell_type": "code",
   "execution_count": null,
   "id": "0abfdfaa",
   "metadata": {},
   "outputs": [],
   "source": [
    "# Positonal arg and keyword arg     first u get positonal arg and after that keyword arg"
   ]
  },
  {
   "cell_type": "code",
   "execution_count": 10,
   "id": "9c42392e",
   "metadata": {},
   "outputs": [
    {
     "name": "stdout",
     "output_type": "stream",
     "text": [
      "shubham\n",
      "rakesh\n",
      "sumit\n"
     ]
    }
   ],
   "source": [
    "def test(fname,mname,lname):\n",
    "    print(fname)\n",
    "    print(mname)\n",
    "    print(lname)\n",
    "test(\"shubham\",\"rakesh\",\"sumit\")    \n",
    "    "
   ]
  },
  {
   "cell_type": "code",
   "execution_count": 5,
   "id": "93b7d2cf",
   "metadata": {},
   "outputs": [
    {
     "name": "stdout",
     "output_type": "stream",
     "text": [
      "rakesh\n",
      "sumit\n",
      "shubham\n"
     ]
    }
   ],
   "source": [
    "def test(fname,mname,lname):\n",
    "    print(fname)\n",
    "    print(mname)\n",
    "    print(lname)\n",
    "test(lname=\"shubham\",fname=\"rakesh\",mname=\"sumit\")  keyword argument"
   ]
  },
  {
   "cell_type": "markdown",
   "id": "359931ee",
   "metadata": {},
   "source": [
    "# day2"
   ]
  },
  {
   "cell_type": "code",
   "execution_count": 11,
   "id": "a18b3190",
   "metadata": {},
   "outputs": [
    {
     "ename": "TypeError",
     "evalue": "test() missing 2 required positional arguments: 'mname' and 'lname'",
     "output_type": "error",
     "traceback": [
      "\u001b[1;31m---------------------------------------------------------------------------\u001b[0m",
      "\u001b[1;31mTypeError\u001b[0m                                 Traceback (most recent call last)",
      "\u001b[1;32m~\\AppData\\Local\\Temp\\ipykernel_21828\\1346176251.py\u001b[0m in \u001b[0;36m<module>\u001b[1;34m\u001b[0m\n\u001b[0;32m      3\u001b[0m     \u001b[0mprint\u001b[0m\u001b[1;33m(\u001b[0m\u001b[0mmname\u001b[0m\u001b[1;33m)\u001b[0m\u001b[1;33m\u001b[0m\u001b[1;33m\u001b[0m\u001b[0m\n\u001b[0;32m      4\u001b[0m     \u001b[0mprint\u001b[0m\u001b[1;33m(\u001b[0m\u001b[0mlname\u001b[0m\u001b[1;33m)\u001b[0m\u001b[1;33m\u001b[0m\u001b[1;33m\u001b[0m\u001b[0m\n\u001b[1;32m----> 5\u001b[1;33m \u001b[0mtest\u001b[0m\u001b[1;33m(\u001b[0m\u001b[1;34m\"shubham\"\u001b[0m\u001b[1;33m)\u001b[0m\u001b[1;31m#positional arg\u001b[0m\u001b[1;33m\u001b[0m\u001b[1;33m\u001b[0m\u001b[0m\n\u001b[0m",
      "\u001b[1;31mTypeError\u001b[0m: test() missing 2 required positional arguments: 'mname' and 'lname'"
     ]
    }
   ],
   "source": [
    "def test(fname,mname,lname):\n",
    "    print(fname)\n",
    "    print(mname)\n",
    "    print(lname)\n",
    "test(\"shubham\")#positional arg"
   ]
  },
  {
   "cell_type": "code",
   "execution_count": 12,
   "id": "393a0e30",
   "metadata": {},
   "outputs": [
    {
     "name": "stdout",
     "output_type": "stream",
     "text": [
      "None\n",
      "None\n",
      "rakesh\n"
     ]
    }
   ],
   "source": [
    "def test(fname=None,mname=None,lname=None): #default arg\n",
    "    print(fname)\n",
    "    print(mname)\n",
    "    print(lname)\n",
    "test(lname=\"rakesh\")"
   ]
  },
  {
   "cell_type": "code",
   "execution_count": 13,
   "id": "27007b2e",
   "metadata": {},
   "outputs": [
    {
     "name": "stdout",
     "output_type": "stream",
     "text": [
      "rakesh\n",
      "None\n",
      "None\n"
     ]
    }
   ],
   "source": [
    "def test(fname,mname=None,lname=None): #default arg\n",
    "    print(fname)\n",
    "    print(mname)\n",
    "    print(lname)\n",
    "test(\"rakesh\")"
   ]
  },
  {
   "cell_type": "code",
   "execution_count": 14,
   "id": "06e5a75a",
   "metadata": {},
   "outputs": [
    {
     "name": "stdout",
     "output_type": "stream",
     "text": [
      "hello welcome\n"
     ]
    }
   ],
   "source": [
    "def  test(a,b):\n",
    "    print(a,b)\n",
    "test(\"hello\",\"welcome\")    "
   ]
  },
  {
   "cell_type": "code",
   "execution_count": 9,
   "id": "36f1d100",
   "metadata": {},
   "outputs": [
    {
     "name": "stdout",
     "output_type": "stream",
     "text": [
      "[2, 4, 6, 8]\n"
     ]
    }
   ],
   "source": [
    "###\n",
    "l=[]\n",
    "for i in range(1,10):\n",
    "    if i%2==0:\n",
    "        l.append(i)\n",
    "print(l)        \n",
    "        "
   ]
  },
  {
   "cell_type": "markdown",
   "id": "788ee460",
   "metadata": {},
   "source": [
    "# imp"
   ]
  },
  {
   "cell_type": "code",
   "execution_count": 17,
   "id": "c281622c",
   "metadata": {},
   "outputs": [],
   "source": [
    "def test(start_pos, end_pos, mode):\n",
    "    l=[]\n",
    "    \n",
    "    if mode==\"even\":\n",
    "        reminder=0\n",
    "    else:\n",
    "        reminder=1\n",
    "        \n",
    "    for i in range(start_pos, end_pos):\n",
    "        if i%2== reminder:\n",
    "            l.append(i)\n",
    "    return l        \n",
    "            "
   ]
  },
  {
   "cell_type": "code",
   "execution_count": 23,
   "id": "10e5d41d",
   "metadata": {},
   "outputs": [
    {
     "name": "stdout",
     "output_type": "stream",
     "text": [
      "[2, 4, 6, 8]\n"
     ]
    }
   ],
   "source": [
    "l=test(1,10,\"even\")\n",
    "print(l)"
   ]
  },
  {
   "cell_type": "code",
   "execution_count": null,
   "id": "18070768",
   "metadata": {},
   "outputs": [],
   "source": [
    "#we want automate takes nuber of argument they use *args  and **kwargs"
   ]
  },
  {
   "cell_type": "code",
   "execution_count": 15,
   "id": "cb35c4c2",
   "metadata": {},
   "outputs": [
    {
     "name": "stdout",
     "output_type": "stream",
     "text": [
      "(1, 2, 3, 'hshs', 'hd')\n"
     ]
    }
   ],
   "source": [
    "def test(*args):\n",
    "    print(args)\n",
    "test(1,2,3,\"hshs\",\"hd\")#this is also "
   ]
  },
  {
   "cell_type": "code",
   "execution_count": 18,
   "id": "861dee93",
   "metadata": {},
   "outputs": [
    {
     "name": "stdout",
     "output_type": "stream",
     "text": [
      "{'name': 'shubham', 'lastname': 'dhanwate'}\n",
      "<class 'dict'>\n"
     ]
    }
   ],
   "source": [
    "#for kwargs\n",
    "\n",
    "def test(**kwargs):\n",
    "    print(kwargs)\n",
    "    print(type(kwargs))\n",
    "test(name=\"shubham\",lastname=\"dhanwate\")"
   ]
  },
  {
   "cell_type": "code",
   "execution_count": 17,
   "id": "d7436813",
   "metadata": {},
   "outputs": [
    {
     "name": "stdout",
     "output_type": "stream",
     "text": [
      "(1, 2, 3, 'hshs', 'hd')\n",
      "{'name': 'shubham', 'lastname': 'dhanwate'}\n"
     ]
    }
   ],
   "source": [
    "#to take both at a time\n",
    "#for *args\n",
    "#for kwargs\n",
    "\n",
    "def test(*args,**kwargs):\n",
    "    print(args)\n",
    "    print(kwargs)\n",
    "test(1, 2, 3, 'hshs', 'hd',name=\"shubham\",lastname=\"dhanwate\")"
   ]
  },
  {
   "cell_type": "code",
   "execution_count": 21,
   "id": "7a659791",
   "metadata": {},
   "outputs": [
    {
     "name": "stdout",
     "output_type": "stream",
     "text": [
      "120\n"
     ]
    }
   ],
   "source": [
    "#Factorial\n",
    "\n",
    "n=5\n",
    "fact=1\n",
    "for i in range(1,n+1):\n",
    "    fact*=i\n",
    "print(fact)    "
   ]
  },
  {
   "cell_type": "code",
   "execution_count": null,
   "id": "87978c63",
   "metadata": {},
   "outputs": [],
   "source": [
    "# q\n",
    "a=[\"apple\" , \"apple\" , \"mango\" , \"lemon\"]\n",
    "unique = [\"apple\",\"mango\",\"lemon\" ]\n",
    "duplicate = [\"apple\"]\n",
    "count = {\"apple\" :  2 , \"mango\" : 1 , \"lemon\" : 1}\n",
    "# def get_fruit_detail(a,mode)"
   ]
  },
  {
   "cell_type": "code",
   "execution_count": null,
   "id": "32ab22a2",
   "metadata": {},
   "outputs": [],
   "source": [
    "###\n",
    "\n",
    "a = \"sachintendulkar123\"\n",
    "get_details(a, mode)\n",
    "mode = \"aplha\" , \"digit\""
   ]
  },
  {
   "cell_type": "code",
   "execution_count": 39,
   "id": "588b29cf",
   "metadata": {},
   "outputs": [
    {
     "name": "stdout",
     "output_type": "stream",
     "text": [
      "enter val32ewd\n"
     ]
    }
   ],
   "source": [
    "a = input()\n",
    "def get_detail(a, mode):\n",
    "    string_mode = \"\"\n",
    "    number_mode = \"\"\n",
    "    for i in a:\n",
    "        if i.isdigit():\n",
    "            number_mode += i\n",
    "        if i.isalpha():\n",
    "            string_mode += i\n",
    "            \n",
    "    if mode== \"alpha\":\n",
    "        print(string_mode)\n",
    "        return\n",
    "    elif mode == \"number\":\n",
    "        print(number_mode)\n",
    "        return\n",
    "    else:\n",
    "        print(\"Please enter either alpha or number as mode\")\n",
    "            \n",
    "        \n",
    "#     print(string_mode)\n",
    "#     print(number_mode)\n",
    "                \n",
    "get_detail(a, \"alpha\")"
   ]
  },
  {
   "cell_type": "code",
   "execution_count": null,
   "id": "cb5b7a3b",
   "metadata": {},
   "outputs": [],
   "source": [
    "#list comprehension\n",
    "# for i in range(start_pos, end_pos):\n",
    "#         if i%2== reminder:\n",
    "#             l.append(i)"
   ]
  },
  {
   "cell_type": "code",
   "execution_count": 31,
   "id": "6f6827d3",
   "metadata": {},
   "outputs": [
    {
     "name": "stdout",
     "output_type": "stream",
     "text": [
      "[0, 2, 4, 6, 8]\n"
     ]
    }
   ],
   "source": [
    "a=[i for i in range(10) if i%2== 0]\n",
    "print(a)"
   ]
  },
  {
   "cell_type": "code",
   "execution_count": 32,
   "id": "223f2f39",
   "metadata": {},
   "outputs": [
    {
     "data": {
      "text/plain": [
       "[0, 1, 2, 3, 4, 5, 6, 7, 8, 9]"
      ]
     },
     "execution_count": 32,
     "metadata": {},
     "output_type": "execute_result"
    }
   ],
   "source": [
    "list(range(10))"
   ]
  },
  {
   "cell_type": "code",
   "execution_count": 33,
   "id": "cbc415be",
   "metadata": {},
   "outputs": [
    {
     "data": {
      "text/plain": [
       "[10, 11, 12, 13, 14, 15, 16, 17, 18, 19]"
      ]
     },
     "execution_count": 33,
     "metadata": {},
     "output_type": "execute_result"
    }
   ],
   "source": [
    "list(range(10,20))"
   ]
  },
  {
   "cell_type": "code",
   "execution_count": 34,
   "id": "0fc3d89a",
   "metadata": {},
   "outputs": [
    {
     "data": {
      "text/plain": [
       "[10, 12, 14, 16, 18]"
      ]
     },
     "execution_count": 34,
     "metadata": {},
     "output_type": "execute_result"
    }
   ],
   "source": [
    "list(range(10,20,2))"
   ]
  },
  {
   "cell_type": "code",
   "execution_count": 35,
   "id": "b65061e9",
   "metadata": {},
   "outputs": [],
   "source": [
    "#start, #end  #interval"
   ]
  },
  {
   "cell_type": "code",
   "execution_count": null,
   "id": "a49cad2b",
   "metadata": {},
   "outputs": [],
   "source": []
  },
  {
   "cell_type": "markdown",
   "id": "ce988b35",
   "metadata": {},
   "source": [
    "# Day 3 Higher order function"
   ]
  },
  {
   "cell_type": "code",
   "execution_count": 40,
   "id": "1fcd70ac",
   "metadata": {},
   "outputs": [
    {
     "data": {
      "text/plain": [
       "12"
      ]
     },
     "execution_count": 40,
     "metadata": {},
     "output_type": "execute_result"
    }
   ],
   "source": [
    "test=lambda a,b:a+b\n",
    "test(5,7)"
   ]
  },
  {
   "cell_type": "code",
   "execution_count": null,
   "id": "364fe306",
   "metadata": {},
   "outputs": [],
   "source": [
    "# lambda is inline pyhton in build function"
   ]
  },
  {
   "cell_type": "code",
   "execution_count": 41,
   "id": "64357868",
   "metadata": {},
   "outputs": [
    {
     "data": {
      "text/plain": [
       "[10, 12, 14, 16, 18]"
      ]
     },
     "execution_count": 41,
     "metadata": {},
     "output_type": "execute_result"
    }
   ],
   "source": [
    "test=lambda a,b :[i for i in range(a,b) if i%2==0]\n",
    "test(10,20)"
   ]
  },
  {
   "cell_type": "markdown",
   "id": "b73a3eb4",
   "metadata": {},
   "source": [
    "# filter == give the true value"
   ]
  },
  {
   "cell_type": "code",
   "execution_count": 42,
   "id": "989fb9ae",
   "metadata": {},
   "outputs": [],
   "source": [
    "def test(a):\n",
    "    print('executing')\n",
    "    if a%2==0:\n",
    "        return True\n",
    "    else:\n",
    "        return False\n",
    "a=[1,2,3,4,5,6,7,8,9,10]\n",
    "a=filter(test,a)\n",
    "    "
   ]
  },
  {
   "cell_type": "code",
   "execution_count": 43,
   "id": "499d79f5",
   "metadata": {},
   "outputs": [
    {
     "name": "stdout",
     "output_type": "stream",
     "text": [
      "executing\n",
      "executing\n",
      "executing\n",
      "executing\n",
      "executing\n",
      "executing\n",
      "executing\n",
      "executing\n",
      "executing\n",
      "executing\n"
     ]
    },
    {
     "data": {
      "text/plain": [
       "[2, 4, 6, 8, 10]"
      ]
     },
     "execution_count": 43,
     "metadata": {},
     "output_type": "execute_result"
    }
   ],
   "source": [
    "list(a)"
   ]
  },
  {
   "cell_type": "markdown",
   "id": "077e8291",
   "metadata": {},
   "source": [
    "# map== whether true is or false  like both"
   ]
  },
  {
   "cell_type": "code",
   "execution_count": 44,
   "id": "49587945",
   "metadata": {},
   "outputs": [],
   "source": [
    "def test(a):\n",
    "    print('executing')\n",
    "    if a%2==0:\n",
    "        return True\n",
    "    else:\n",
    "        return False\n",
    "a=[1,2,3,4,5,6,7,8,9,10]\n",
    "a=map(test,a)"
   ]
  },
  {
   "cell_type": "code",
   "execution_count": 45,
   "id": "37771be5",
   "metadata": {},
   "outputs": [
    {
     "name": "stdout",
     "output_type": "stream",
     "text": [
      "executing\n",
      "executing\n",
      "executing\n",
      "executing\n",
      "executing\n",
      "executing\n",
      "executing\n",
      "executing\n",
      "executing\n",
      "executing\n"
     ]
    },
    {
     "data": {
      "text/plain": [
       "(False, True, False, True, False, True, False, True, False, True)"
      ]
     },
     "execution_count": 45,
     "metadata": {},
     "output_type": "execute_result"
    }
   ],
   "source": [
    "tuple(a)"
   ]
  },
  {
   "cell_type": "code",
   "execution_count": null,
   "id": "f79f77e6",
   "metadata": {},
   "outputs": [],
   "source": [
    "#reduce= sum or multiple do -very memory efficient process"
   ]
  },
  {
   "cell_type": "code",
   "execution_count": 49,
   "id": "13b31307",
   "metadata": {},
   "outputs": [
    {
     "data": {
      "text/plain": [
       "3628800"
      ]
     },
     "execution_count": 49,
     "metadata": {},
     "output_type": "execute_result"
    }
   ],
   "source": [
    "from functools import reduce\n",
    "def test(m,n):\n",
    "    return m*n\n",
    "a=[1,2,3,4,5,6,7,8,9,10]\n",
    "reduce(test,a)"
   ]
  },
  {
   "cell_type": "code",
   "execution_count": null,
   "id": "6bddcfc7",
   "metadata": {},
   "outputs": [],
   "source": [
    "#get input num from user\n",
    "#if number is odd -1\n",
    "#if number is even %2\n",
    "\n"
   ]
  },
  {
   "cell_type": "code",
   "execution_count": null,
   "id": "e608efba",
   "metadata": {},
   "outputs": [],
   "source": [
    "# 11\n",
    "# 11-1=10\n",
    "# 10/2=5\n",
    "# 5-1=4\n",
    "# 4/2=2\n",
    "# 2/2=0\n",
    "# output is 5 like how many time for  it  "
   ]
  },
  {
   "cell_type": "code",
   "execution_count": 11,
   "id": "8df994f8",
   "metadata": {},
   "outputs": [
    {
     "name": "stdout",
     "output_type": "stream",
     "text": [
      "3\n"
     ]
    }
   ],
   "source": [
    "a=11\n",
    "counter=0\n",
    "while a>0:\n",
    "    if a%2==1:\n",
    "        a=a-1\n",
    "        \n",
    "    elif a%2==0:\n",
    "        a=a/2\n",
    "        counter=counter+1\n",
    "        \n",
    "        \n",
    "print(counter)        "
   ]
  },
  {
   "cell_type": "code",
   "execution_count": null,
   "id": "e0f84887",
   "metadata": {},
   "outputs": [],
   "source": []
  },
  {
   "cell_type": "code",
   "execution_count": null,
   "id": "f0bfa949",
   "metadata": {},
   "outputs": [],
   "source": []
  }
 ],
 "metadata": {
  "kernelspec": {
   "display_name": "Python 3 (ipykernel)",
   "language": "python",
   "name": "python3"
  },
  "language_info": {
   "codemirror_mode": {
    "name": "ipython",
    "version": 3
   },
   "file_extension": ".py",
   "mimetype": "text/x-python",
   "name": "python",
   "nbconvert_exporter": "python",
   "pygments_lexer": "ipython3",
   "version": "3.9.13"
  }
 },
 "nbformat": 4,
 "nbformat_minor": 5
}

{
 "cells": [
  {
   "cell_type": "code",
   "execution_count": 13,
   "id": "984ee26c",
   "metadata": {},
   "outputs": [
    {
     "name": "stdout",
     "output_type": "stream",
     "text": [
      "unique_list is: ['apple', 'mango', 'lemon']\n",
      "duplicate_list: ['apple', 'lemon']\n"
     ]
    }
   ],
   "source": [
    "myList=[\"apple\" , \"apple\" , \"mango\" , \"lemon\" , \"lemon\"]\n",
    "duplicate_list = []\n",
    "unique_list = []\n",
    "for i in myList:\n",
    "    if i in unique_list:\n",
    "        duplicate_list.append(i)\n",
    "    else :\n",
    "        unique_list.append(i)\n",
    "print(\"unique_list is:\",unique_list)\n",
    "print(\"duplicate_list:\",duplicate_list)"
   ]
  },
  {
   "cell_type": "code",
   "execution_count": null,
   "id": "41d01934",
   "metadata": {},
   "outputs": [],
   "source": []
  },
  {
   "cell_type": "code",
   "execution_count": null,
   "id": "dab6f5dc",
   "metadata": {},
   "outputs": [],
   "source": [
    "a = [[\"hi\",\"hello\",\"welcome\"], [1,2,3], [\"demo\", \"try\"], [4,5,6]]\n",
    "out1 = [\"hi\",\"hello\",\"welcome\",\"demo\", \"try\"]\n",
    "out2 = [1,2,3,4,5,6]"
   ]
  },
  {
   "cell_type": "code",
   "execution_count": 4,
   "id": "926be1e3",
   "metadata": {},
   "outputs": [
    {
     "name": "stdout",
     "output_type": "stream",
     "text": [
      "['hi', 'hello', 'welcome', 'demo', 'try']\n",
      "[1, 2, 3, 4, 5, 6]\n"
     ]
    }
   ],
   "source": [
    "a = [[\"hi\",\"hello\",\"welcome\"], [1,2,3], [\"demo\", \"try\"], [4,5,6]]\n",
    "str1=[]\n",
    "digit=[]\n",
    "\n",
    "for Outer_list in a:\n",
    "    string_flag=False\n",
    "    int_flag=False\n",
    "    for inner_list in Outer_list:\n",
    "        if isinstance(inner_list,str):\n",
    "            string_flag=True\n",
    "            \n",
    "        if isinstance(inner_list,int):   \n",
    "            int_flag=True\n",
    "    if string_flag:\n",
    "        str1.extend(Outer_list)\n",
    "    if int_flag:\n",
    "        digit.extend(Outer_list)\n",
    "        \n",
    "print(str1)        \n",
    "print(digit)            \n",
    "    \n",
    "        \n",
    "    \n",
    "    \n",
    "    \n",
    "    \n",
    "    \n",
    "     \n",
    "   "
   ]
  },
  {
   "cell_type": "code",
   "execution_count": null,
   "id": "916b0c6a",
   "metadata": {},
   "outputs": [],
   "source": []
  },
  {
   "cell_type": "code",
   "execution_count": null,
   "id": "41608a15",
   "metadata": {},
   "outputs": [],
   "source": [
    " \n",
    "    "
   ]
  },
  {
   "cell_type": "code",
   "execution_count": null,
   "id": "57892c76",
   "metadata": {},
   "outputs": [],
   "source": []
  }
 ],
 "metadata": {
  "kernelspec": {
   "display_name": "Python 3 (ipykernel)",
   "language": "python",
   "name": "python3"
  },
  "language_info": {
   "codemirror_mode": {
    "name": "ipython",
    "version": 3
   },
   "file_extension": ".py",
   "mimetype": "text/x-python",
   "name": "python",
   "nbconvert_exporter": "python",
   "pygments_lexer": "ipython3",
   "version": "3.9.13"
  }
 },
 "nbformat": 4,
 "nbformat_minor": 5
}

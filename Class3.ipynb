{
 "cells": [
  {
   "cell_type": "markdown",
   "id": "da6dbefe",
   "metadata": {},
   "source": [
    "# String"
   ]
  },
  {
   "cell_type": "code",
   "execution_count": 2,
   "id": "a36a6452",
   "metadata": {},
   "outputs": [],
   "source": [
    "a=\"ShubhaDhanwate\""
   ]
  },
  {
   "cell_type": "code",
   "execution_count": 3,
   "id": "d36bf92b",
   "metadata": {},
   "outputs": [
    {
     "name": "stdout",
     "output_type": "stream",
     "text": [
      "S\n",
      "a\n"
     ]
    }
   ],
   "source": [
    "print(a[0])\n",
    "print(a[5])"
   ]
  },
  {
   "cell_type": "code",
   "execution_count": 4,
   "id": "d04eda80",
   "metadata": {},
   "outputs": [
    {
     "name": "stdout",
     "output_type": "stream",
     "text": [
      "Shubh\n",
      "aDhan\n"
     ]
    }
   ],
   "source": [
    "#start:end\n",
    "print(a[0:5])\n",
    "print(a[5:10])"
   ]
  },
  {
   "cell_type": "code",
   "execution_count": 5,
   "id": "904c026e",
   "metadata": {},
   "outputs": [
    {
     "name": "stdout",
     "output_type": "stream",
     "text": [
      "ShubhaDhanwate\n",
      "ShubhaDhanwate\n",
      "SuhDawt\n",
      "SbDnt\n"
     ]
    }
   ],
   "source": [
    "#start:end:interval\n",
    "print(a[:])\n",
    "print(a[::1])\n",
    "print(a[::2])\n",
    "print(a[::3])"
   ]
  },
  {
   "cell_type": "code",
   "execution_count": 6,
   "id": "717341b5",
   "metadata": {},
   "outputs": [],
   "source": [
    "a=\"ShubhaDhanwate\""
   ]
  },
  {
   "cell_type": "code",
   "execution_count": 7,
   "id": "b52ce1a8",
   "metadata": {},
   "outputs": [
    {
     "ename": "IndexError",
     "evalue": "string index out of range",
     "output_type": "error",
     "traceback": [
      "\u001b[1;31m---------------------------------------------------------------------------\u001b[0m",
      "\u001b[1;31mIndexError\u001b[0m                                Traceback (most recent call last)",
      "\u001b[1;32m~\\AppData\\Local\\Temp\\ipykernel_10644\\1598753348.py\u001b[0m in \u001b[0;36m<module>\u001b[1;34m\u001b[0m\n\u001b[1;32m----> 1\u001b[1;33m \u001b[0mprint\u001b[0m\u001b[1;33m(\u001b[0m\u001b[0ma\u001b[0m\u001b[1;33m[\u001b[0m\u001b[1;36m14\u001b[0m\u001b[1;33m]\u001b[0m\u001b[1;33m)\u001b[0m\u001b[1;33m\u001b[0m\u001b[1;33m\u001b[0m\u001b[0m\n\u001b[0m",
      "\u001b[1;31mIndexError\u001b[0m: string index out of range"
     ]
    }
   ],
   "source": [
    "print(a[14])"
   ]
  },
  {
   "cell_type": "code",
   "execution_count": 8,
   "id": "31924919",
   "metadata": {},
   "outputs": [
    {
     "name": "stdout",
     "output_type": "stream",
     "text": [
      "i\n"
     ]
    }
   ],
   "source": [
    "a=\"Dhoni\"\n",
    "print(a[-1])"
   ]
  },
  {
   "cell_type": "code",
   "execution_count": 12,
   "id": "54bd4c97",
   "metadata": {},
   "outputs": [
    {
     "name": "stdout",
     "output_type": "stream",
     "text": [
      "e\n",
      "etawnahDahbuhS\n"
     ]
    }
   ],
   "source": [
    "a=\"ShubhaDhanwate\"\n",
    "print(a[-1])\n",
    "print(a[::-1])"
   ]
  },
  {
   "cell_type": "markdown",
   "id": "14036b61",
   "metadata": {},
   "source": [
    "# Index"
   ]
  },
  {
   "cell_type": "code",
   "execution_count": 13,
   "id": "0fea0c2f",
   "metadata": {},
   "outputs": [],
   "source": [
    "a=\"Shubham Dhanwate\""
   ]
  },
  {
   "cell_type": "code",
   "execution_count": 15,
   "id": "9d591db9",
   "metadata": {},
   "outputs": [
    {
     "name": "stdout",
     "output_type": "stream",
     "text": [
      "8\n",
      "5\n",
      "7\n",
      "5\n",
      "10\n"
     ]
    }
   ],
   "source": [
    "print(a.index(\"D\"))\n",
    "print(a.index(\"a\"))\n",
    "print(a.index(\" \"))\n",
    "print(a.index(\"a\",2))\n",
    "print(a.index(\"a\",10))"
   ]
  },
  {
   "cell_type": "code",
   "execution_count": 16,
   "id": "8e9d175b",
   "metadata": {},
   "outputs": [
    {
     "name": "stdout",
     "output_type": "stream",
     "text": [
      "8\n",
      "13\n"
     ]
    }
   ],
   "source": [
    "#Starting with front upto last given index- gets last term\n",
    "print(a.rindex(\"D\"))\n",
    "print(a.rindex(\"a\"))"
   ]
  },
  {
   "cell_type": "code",
   "execution_count": 24,
   "id": "dd4c1422",
   "metadata": {},
   "outputs": [
    {
     "name": "stdout",
     "output_type": "stream",
     "text": [
      "5\n"
     ]
    }
   ],
   "source": [
    "#\n",
    "a=\"ShubhamDhanwate\"\n",
    "print(a.index(\"a\"))"
   ]
  },
  {
   "cell_type": "code",
   "execution_count": 25,
   "id": "51dc065b",
   "metadata": {},
   "outputs": [
    {
     "ename": "ValueError",
     "evalue": "substring not found",
     "output_type": "error",
     "traceback": [
      "\u001b[1;31m---------------------------------------------------------------------------\u001b[0m",
      "\u001b[1;31mValueError\u001b[0m                                Traceback (most recent call last)",
      "\u001b[1;32m~\\AppData\\Local\\Temp\\ipykernel_10644\\1437915082.py\u001b[0m in \u001b[0;36m<module>\u001b[1;34m\u001b[0m\n\u001b[1;32m----> 1\u001b[1;33m \u001b[0mprint\u001b[0m\u001b[1;33m(\u001b[0m\u001b[0ma\u001b[0m\u001b[1;33m.\u001b[0m\u001b[0mindex\u001b[0m\u001b[1;33m(\u001b[0m\u001b[1;34m\"z\"\u001b[0m\u001b[1;33m)\u001b[0m\u001b[1;33m)\u001b[0m\u001b[1;33m\u001b[0m\u001b[1;33m\u001b[0m\u001b[0m\n\u001b[0m",
      "\u001b[1;31mValueError\u001b[0m: substring not found"
     ]
    }
   ],
   "source": [
    "print(a.index(\"z\"))\n"
   ]
  },
  {
   "cell_type": "code",
   "execution_count": 26,
   "id": "96646b3c",
   "metadata": {},
   "outputs": [
    {
     "name": "stdout",
     "output_type": "stream",
     "text": [
      "5\n",
      "5\n"
     ]
    }
   ],
   "source": [
    "print(a.index(\"a\"))\n",
    "print(a.find(\"a\"))"
   ]
  },
  {
   "cell_type": "code",
   "execution_count": 28,
   "id": "ad4cad9b",
   "metadata": {},
   "outputs": [
    {
     "name": "stdout",
     "output_type": "stream",
     "text": [
      "7\n",
      "7\n"
     ]
    }
   ],
   "source": [
    "print(a.rindex(\"D\"))\n",
    "print(a.rfind(\"D\"))"
   ]
  },
  {
   "cell_type": "code",
   "execution_count": 29,
   "id": "2211874b",
   "metadata": {},
   "outputs": [
    {
     "name": "stdout",
     "output_type": "stream",
     "text": [
      "-1\n"
     ]
    }
   ],
   "source": [
    "print(a.rfind(\"z\"))"
   ]
  },
  {
   "cell_type": "code",
   "execution_count": 30,
   "id": "4ee54eaa",
   "metadata": {},
   "outputs": [],
   "source": [
    "a=\" hi  hello \""
   ]
  },
  {
   "cell_type": "code",
   "execution_count": 31,
   "id": "3504218e",
   "metadata": {},
   "outputs": [
    {
     "name": "stdout",
     "output_type": "stream",
     "text": [
      "hi  hello\n",
      " hi  hello\n",
      "hi  hello \n"
     ]
    }
   ],
   "source": [
    "print(a.strip())\n",
    "print(a.rstrip())#last space\n",
    "print(a.lstrip()) #leadinhgg space"
   ]
  },
  {
   "cell_type": "code",
   "execution_count": null,
   "id": "2c9c381d",
   "metadata": {},
   "outputs": [],
   "source": [
    "#a = \"dhoni\"\n",
    "## get last letter i - without using reverse index [-1]"
   ]
  }
 ],
 "metadata": {
  "kernelspec": {
   "display_name": "Python 3 (ipykernel)",
   "language": "python",
   "name": "python3"
  },
  "language_info": {
   "codemirror_mode": {
    "name": "ipython",
    "version": 3
   },
   "file_extension": ".py",
   "mimetype": "text/x-python",
   "name": "python",
   "nbconvert_exporter": "python",
   "pygments_lexer": "ipython3",
   "version": "3.9.13"
  }
 },
 "nbformat": 4,
 "nbformat_minor": 5
}

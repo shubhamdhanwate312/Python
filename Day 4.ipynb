{
 "cells": [
  {
   "cell_type": "markdown",
   "id": "b293d84a",
   "metadata": {},
   "source": [
    "# List"
   ]
  },
  {
   "cell_type": "code",
   "execution_count": null,
   "id": "9179d652",
   "metadata": {},
   "outputs": [],
   "source": [
    "##\n",
    "name=\"arun\"\n",
    "age=12\n",
    "location=\"mumbai\""
   ]
  },
  {
   "cell_type": "code",
   "execution_count": null,
   "id": "e5880b11",
   "metadata": {},
   "outputs": [],
   "source": [
    "name=\"Kumar\"\n",
    "age=25\n",
    "location=\"delhi\""
   ]
  },
  {
   "cell_type": "code",
   "execution_count": null,
   "id": "d75942eb",
   "metadata": {},
   "outputs": [],
   "source": [
    "#How avoide above "
   ]
  },
  {
   "cell_type": "code",
   "execution_count": null,
   "id": "df3359be",
   "metadata": {},
   "outputs": [],
   "source": [
    "a=[[\"arun\",12,\"mumbai\"],[\"kumar\",25,\"delhi\"]]"
   ]
  },
  {
   "cell_type": "code",
   "execution_count": null,
   "id": "6e45faf6",
   "metadata": {},
   "outputs": [],
   "source": [
    "a=[\"arun\",12,\"mumbai\"]# issue into min max and sorted function"
   ]
  },
  {
   "cell_type": "code",
   "execution_count": 11,
   "id": "2ca64231",
   "metadata": {},
   "outputs": [],
   "source": [
    "a=[\"arun\",\"12\",\"mumbai\"]\n"
   ]
  },
  {
   "cell_type": "code",
   "execution_count": 3,
   "id": "5efa0ba1",
   "metadata": {},
   "outputs": [],
   "source": [
    "#type isinstance len min max sorted"
   ]
  },
  {
   "cell_type": "code",
   "execution_count": 16,
   "id": "57f724ce",
   "metadata": {},
   "outputs": [
    {
     "name": "stdout",
     "output_type": "stream",
     "text": [
      "<class 'list'>\n"
     ]
    }
   ],
   "source": [
    "print(type(a))\n",
    "\n",
    "\n"
   ]
  },
  {
   "cell_type": "code",
   "execution_count": 6,
   "id": "15cf0605",
   "metadata": {},
   "outputs": [
    {
     "name": "stdout",
     "output_type": "stream",
     "text": [
      "True\n"
     ]
    }
   ],
   "source": [
    "print(isinstance(a,list))"
   ]
  },
  {
   "cell_type": "code",
   "execution_count": 7,
   "id": "1acf5ccf",
   "metadata": {},
   "outputs": [
    {
     "name": "stdout",
     "output_type": "stream",
     "text": [
      "3\n"
     ]
    }
   ],
   "source": [
    "print(len(a))"
   ]
  },
  {
   "cell_type": "code",
   "execution_count": 13,
   "id": "6b17f94e",
   "metadata": {},
   "outputs": [
    {
     "name": "stdout",
     "output_type": "stream",
     "text": [
      "12\n"
     ]
    }
   ],
   "source": [
    "print(min(a))"
   ]
  },
  {
   "cell_type": "code",
   "execution_count": 14,
   "id": "ce2c7a53",
   "metadata": {},
   "outputs": [
    {
     "name": "stdout",
     "output_type": "stream",
     "text": [
      "mumbai\n"
     ]
    }
   ],
   "source": [
    "print(max(a))"
   ]
  },
  {
   "cell_type": "code",
   "execution_count": 12,
   "id": "8647d4d2",
   "metadata": {},
   "outputs": [
    {
     "name": "stdout",
     "output_type": "stream",
     "text": [
      "['12', 'arun', 'mumbai']\n"
     ]
    }
   ],
   "source": [
    "print(sorted(a))"
   ]
  },
  {
   "cell_type": "code",
   "execution_count": 17,
   "id": "9ed8e381",
   "metadata": {},
   "outputs": [
    {
     "name": "stdout",
     "output_type": "stream",
     "text": [
      "['mumbai', '12', 'arun']\n"
     ]
    }
   ],
   "source": [
    "print(a[::-1])#for reverse "
   ]
  },
  {
   "cell_type": "code",
   "execution_count": 18,
   "id": "8bce8feb",
   "metadata": {},
   "outputs": [],
   "source": [
    "a=[1,2,3,4,5,6]"
   ]
  },
  {
   "cell_type": "code",
   "execution_count": 19,
   "id": "54352bc2",
   "metadata": {},
   "outputs": [
    {
     "name": "stdout",
     "output_type": "stream",
     "text": [
      "[1, 2, 3, 4, 5, 6, 10]\n"
     ]
    }
   ],
   "source": [
    "a.append(10)# default add to last position\n",
    "print(a)"
   ]
  },
  {
   "cell_type": "code",
   "execution_count": 20,
   "id": "d526297f",
   "metadata": {},
   "outputs": [
    {
     "name": "stdout",
     "output_type": "stream",
     "text": [
      "[1, 2, 'hii', 3, 4, 5, 6, 10]\n"
     ]
    }
   ],
   "source": [
    "a.insert(2,\"hii\")# adding particular position\n",
    "print(a)"
   ]
  },
  {
   "cell_type": "code",
   "execution_count": 21,
   "id": "9a8ed4fb",
   "metadata": {},
   "outputs": [
    {
     "name": "stdout",
     "output_type": "stream",
     "text": [
      "[1, 2, 3, 4, 5, 6, 10]\n"
     ]
    }
   ],
   "source": [
    "a.remove(\"hii\")#remove the base upon value\n",
    "print(a)"
   ]
  },
  {
   "cell_type": "code",
   "execution_count": 22,
   "id": "e9f46c46",
   "metadata": {},
   "outputs": [
    {
     "name": "stdout",
     "output_type": "stream",
     "text": [
      "[2, 3, 4, 5, 6, 10]\n"
     ]
    }
   ],
   "source": [
    "del a[0]# delete the base upon position\n",
    "print(a)"
   ]
  },
  {
   "cell_type": "code",
   "execution_count": 23,
   "id": "ac73e95a",
   "metadata": {},
   "outputs": [
    {
     "name": "stdout",
     "output_type": "stream",
     "text": [
      "['hi', 2, 3, 4, 5, 6, 10]\n"
     ]
    }
   ],
   "source": [
    "a.insert(0,\"hi\")\n",
    "print(a)"
   ]
  },
  {
   "cell_type": "code",
   "execution_count": 26,
   "id": "fba18d08",
   "metadata": {},
   "outputs": [
    {
     "name": "stdout",
     "output_type": "stream",
     "text": [
      "['hi', 3, 4, 5]\n",
      "2\n"
     ]
    }
   ],
   "source": [
    "b=a.pop(1)#default remove from last potion value and particular positon \n",
    "print(a)\n",
    "print(b)"
   ]
  },
  {
   "cell_type": "code",
   "execution_count": 27,
   "id": "5c0339cc",
   "metadata": {},
   "outputs": [],
   "source": [
    "#Q\n",
    "a=[\"arun\",\"kumar\",\"kishore\"]\n",
    "#get first list first word - a\n",
    "#get first list last word - n\n",
    "#get first list first word - k\n",
    "#get first list last word - e\n"
   ]
  },
  {
   "cell_type": "code",
   "execution_count": 41,
   "id": "73f9516c",
   "metadata": {},
   "outputs": [
    {
     "name": "stdout",
     "output_type": "stream",
     "text": [
      "a\n"
     ]
    }
   ],
   "source": [
    "#get first list first word - a\n",
    "b=(a[0])\n",
    "print(b[0])"
   ]
  },
  {
   "cell_type": "code",
   "execution_count": 42,
   "id": "e91e76ca",
   "metadata": {},
   "outputs": [
    {
     "name": "stdout",
     "output_type": "stream",
     "text": [
      "n\n"
     ]
    }
   ],
   "source": [
    "#get first list last word - n\n",
    "b=(a[0])\n",
    "print(b[-1])"
   ]
  },
  {
   "cell_type": "code",
   "execution_count": 43,
   "id": "16b3a3a8",
   "metadata": {},
   "outputs": [
    {
     "name": "stdout",
     "output_type": "stream",
     "text": [
      "k\n"
     ]
    }
   ],
   "source": [
    "#get first list first word - k\n",
    "b=(a[2])\n",
    "print(b[0])"
   ]
  },
  {
   "cell_type": "code",
   "execution_count": 44,
   "id": "db57f5d8",
   "metadata": {},
   "outputs": [
    {
     "name": "stdout",
     "output_type": "stream",
     "text": [
      "e\n"
     ]
    }
   ],
   "source": [
    "#get first list last word - e\n",
    "b=a[2]\n",
    "print(b[-1])"
   ]
  },
  {
   "cell_type": "code",
   "execution_count": 47,
   "id": "768abb2b",
   "metadata": {},
   "outputs": [
    {
     "name": "stdout",
     "output_type": "stream",
     "text": [
      "enter here: ['12', 'arun', 'mumbai']\n",
      "<class 'str'>\n"
     ]
    }
   ],
   "source": [
    "#also get list as input from user and check the data types\n",
    "a=input(\"enter here: \")\n",
    "print(type(a))"
   ]
  },
  {
   "cell_type": "code",
   "execution_count": null,
   "id": "e99ec5e3",
   "metadata": {},
   "outputs": [],
   "source": []
  }
 ],
 "metadata": {
  "kernelspec": {
   "display_name": "Python 3 (ipykernel)",
   "language": "python",
   "name": "python3"
  },
  "language_info": {
   "codemirror_mode": {
    "name": "ipython",
    "version": 3
   },
   "file_extension": ".py",
   "mimetype": "text/x-python",
   "name": "python",
   "nbconvert_exporter": "python",
   "pygments_lexer": "ipython3",
   "version": "3.9.13"
  }
 },
 "nbformat": 4,
 "nbformat_minor": 5
}
